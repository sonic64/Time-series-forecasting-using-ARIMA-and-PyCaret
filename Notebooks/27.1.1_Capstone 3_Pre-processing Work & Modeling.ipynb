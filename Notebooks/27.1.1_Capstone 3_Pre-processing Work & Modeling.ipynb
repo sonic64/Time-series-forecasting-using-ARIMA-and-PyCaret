{
 "cells": [
  {
   "cell_type": "markdown",
   "id": "b703c5c3",
   "metadata": {},
   "source": [
    "## Project: What we can learn from visitors visiting Taiwan from 2011 to 2023\n",
    "\n",
    "The original dataset is available from [Taiwan Tourism Bureau](https://stat.taiwan.net.tw/)\n",
    "\n",
    "### Introduction:\n",
    "The data was downloaded from Taiwan Tourism Bureau. It contains the monthly number of visitors to Taiwan by their gender, residence and purpose.\n",
    "\n",
    "### Background:\n",
    "Taiwan's travel and tourism industry plays a significant role in its economy, contributing to economic growth, job creation, and cultural exchange. The foreign exchange earnings from tourism for the year 2019 were estimated to be 14.41 billion US dollars, which was 4.43% of Taiwan's GDP. The total number of visitors to Taiwan in 2019 also reached an all-time-high record, 11.85 million.\n",
    "\n",
    "The goal is to determine whether visitors to Taiwan are increasing, declining or being stagnant and to build a time series model that forecasts the future from the perspective of the past.\n",
    "\n",
    "**In this notebook, we will focus on Pre-processing Work & Modeling.**"
   ]
  },
  {
   "cell_type": "code",
   "execution_count": 1,
   "id": "ca88b647",
   "metadata": {},
   "outputs": [],
   "source": [
    "# Import necessary modules\n",
    "import pandas as pd\n",
    "import numpy as np\n",
    "import matplotlib.pyplot as plt\n",
    "import seaborn as sns"
   ]
  },
  {
   "cell_type": "code",
   "execution_count": null,
   "id": "9ae9481c",
   "metadata": {},
   "outputs": [],
   "source": []
  },
  {
   "cell_type": "code",
   "execution_count": null,
   "id": "83043891",
   "metadata": {},
   "outputs": [],
   "source": []
  },
  {
   "cell_type": "code",
   "execution_count": null,
   "id": "071cef34",
   "metadata": {},
   "outputs": [],
   "source": []
  },
  {
   "cell_type": "code",
   "execution_count": null,
   "id": "03099722",
   "metadata": {},
   "outputs": [],
   "source": []
  },
  {
   "cell_type": "code",
   "execution_count": null,
   "id": "9c029afb",
   "metadata": {},
   "outputs": [],
   "source": []
  }
 ],
 "metadata": {
  "kernelspec": {
   "display_name": "Python 3 (ipykernel)",
   "language": "python",
   "name": "python3"
  },
  "language_info": {
   "codemirror_mode": {
    "name": "ipython",
    "version": 3
   },
   "file_extension": ".py",
   "mimetype": "text/x-python",
   "name": "python",
   "nbconvert_exporter": "python",
   "pygments_lexer": "ipython3",
   "version": "3.11.5"
  }
 },
 "nbformat": 4,
 "nbformat_minor": 5
}
